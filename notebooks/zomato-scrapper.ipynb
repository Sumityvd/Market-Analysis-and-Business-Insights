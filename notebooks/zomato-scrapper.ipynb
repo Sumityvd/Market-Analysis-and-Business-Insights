{
 "cells": [
  {
   "cell_type": "markdown",
   "metadata": {},
   "source": [
    "#### Zomato Scrapper 1"
   ]
  },
  {
   "cell_type": "code",
   "execution_count": 31,
   "metadata": {},
   "outputs": [],
   "source": [
    "import time\n",
    "import pandas as pd\n",
    "from bs4 import BeautifulSoup\n",
    "from selenium import webdriver\n",
    "from selenium.webdriver.common.by import By\n",
    "from selenium.webdriver.chrome.service import Service as ChromeService\n",
    "from webdriver_manager.chrome import ChromeDriverManager\n",
    "import numpy as np"
   ]
  },
  {
   "cell_type": "code",
   "execution_count": 2,
   "metadata": {},
   "outputs": [],
   "source": [
    "driver = webdriver.Chrome(service=ChromeService(ChromeDriverManager().install()))\n",
    "# Initialise a chrome webdriver instance with ChromeDriverManager. "
   ]
  },
  {
   "cell_type": "code",
   "execution_count": 17,
   "metadata": {},
   "outputs": [],
   "source": [
    "restaurants_dict = {\"name\": [], \"location\": [],\"price_for_two\": [], \n",
    "                    \"cuisines\": [], \"rating\": [], \"restaurant_link\": []}\n",
    "\n",
    "location = [\"\", \"whitefield-restaurants\", \"marathahalli-restaurants\"]\n",
    "\n",
    "driver = webdriver.Chrome(service=ChromeService(ChromeDriverManager().install()))\n",
    "\n",
    "for k in location:\n",
    "    driver.get(\"https://www.zomato.com/bangalore/\"+k)\n",
    "    driver.maximize_window()\n",
    "\n",
    "    driver.execute_script(\"window.scrollTo(0, document.body.scrollHeight);\")\n",
    "    time.sleep(40)\n",
    "\n",
    "    page_data = BeautifulSoup(driver.page_source)\n",
    "\n",
    "    for i in page_data.find_all(\"a\", class_=\"sc-bvCTgw dIvKTC\"):\n",
    "        restaurants_dict[\"restaurant_link\"].append(\"https://www.zomato.com\" + i[\"href\"])\n",
    "        try:\n",
    "            restaurants_dict[\"name\"].append(i.find(\"h4\", class_=\"sc-1hp8d8a-0 sc-ertOQY hArupt\").text)\n",
    "        except(AttributeError):\n",
    "            restaurants_dict[\"name\"].append(i.find(\"h4\", class_=\"sc-1hp8d8a-0 sc-cgThhu dFwWJC\").text)\n",
    "        restaurants_dict[\"rating\"].append(i.find(\"div\", class_=\"sc-1q7bklc-1 cILgox\").text)\n",
    "        try:\n",
    "            restaurants_dict[\"cuisines\"].append(i.find(\"p\", class_=\"sc-1hez2tp-0 sc-iEPtyo bHxcOC\").text)\n",
    "        except(AttributeError):\n",
    "            restaurants_dict[\"cuisines\"].append(i.find(\"p\", class_=\"sc-1hez2tp-0 sc-LAuEU fDjWNG\").text)\n",
    "        try:\n",
    "            restaurants_dict[\"location\"].append(i.find(\"p\", class_=\"sc-1hez2tp-0 sc-gUlUPW icrStE\").text.strip())\n",
    "        except(AttributeError):\n",
    "            restaurants_dict[\"location\"].append(i.find(\"p\", class_=\"sc-1hez2tp-0 sc-gkfylT cOAsXn\").text.strip())\n",
    "        try:\n",
    "            restaurants_dict[\"price_for_two\"].append(i.find(\"p\", class_=\"sc-1hez2tp-0 sc-iEPtyo dJHUYi\").text.split()[0].replace(\"₹\", \"\").replace(\",\", \"\"))\n",
    "        except(AttributeError):\n",
    "            restaurants_dict[\"price_for_two\"].append(i.find(\"p\", class_=\"sc-1hez2tp-0 sc-LAuEU dHtbEm\").text.split()[0].replace(\"₹\", \"\").replace(\",\", \"\"))\n",
    "\n",
    "# Scrape restaurants data from zomato for specified location and store it in the restaurants dictionary\n",
    "# using chrome drive and beautifulsoup."
   ]
  },
  {
   "cell_type": "code",
   "execution_count": 18,
   "metadata": {},
   "outputs": [],
   "source": [
    "restaurants_df = pd.DataFrame(restaurants_dict)\n",
    "# create a restaurants dataframe using the dictionary."
   ]
  },
  {
   "cell_type": "code",
   "execution_count": 68,
   "metadata": {},
   "outputs": [],
   "source": [
    "restaurants_df.drop_duplicates(inplace=True)\n",
    "# Drop duplicate values from the dataframe."
   ]
  },
  {
   "cell_type": "code",
   "execution_count": 83,
   "metadata": {},
   "outputs": [],
   "source": [
    "restaurants_df = restaurants_df.head(1000)\n",
    "restaurants_df.reset_index(inplace=True)\n",
    "restaurants_df.drop(\"index\", axis=1, inplace=True)\n",
    "# Extract 1000 restaurants from the dataframe."
   ]
  },
  {
   "cell_type": "code",
   "execution_count": 85,
   "metadata": {},
   "outputs": [
    {
     "data": {
      "text/plain": [
       "name               0\n",
       "location           0\n",
       "price_for_two      0\n",
       "cuisines           0\n",
       "rating             0\n",
       "restaurant_link    0\n",
       "dtype: int64"
      ]
     },
     "execution_count": 85,
     "metadata": {},
     "output_type": "execute_result"
    }
   ],
   "source": [
    "restaurants_df.isna().sum()\n",
    "# Check missing values count for each columns."
   ]
  },
  {
   "cell_type": "code",
   "execution_count": 86,
   "metadata": {},
   "outputs": [],
   "source": [
    "restaurants_df.to_csv(\"restaurants_data.csv\")\n",
    "# Export the restaurants dataframe as .csv file."
   ]
  },
  {
   "cell_type": "markdown",
   "metadata": {},
   "source": [
    "#### Zomato Scrapper 2"
   ]
  },
  {
   "cell_type": "code",
   "execution_count": 94,
   "metadata": {},
   "outputs": [],
   "source": [
    "restaurant_details_dict = {\"name\": [], \"latitude\": [], \"longitude\": [], \n",
    "    \"delivery_review_number\": [], \"location\": []}"
   ]
  },
  {
   "cell_type": "code",
   "execution_count": 95,
   "metadata": {},
   "outputs": [],
   "source": [
    "driver = webdriver.Chrome(service=ChromeService(ChromeDriverManager().install()))\n",
    "\n",
    "for i in restaurants_df[\"restaurant_link\"]:\n",
    "    driver.get(i)\n",
    "    time.sleep(3)\n",
    "    current_page_data = BeautifulSoup(driver.page_source)\n",
    "    restaurant_details_dict[\"name\"].append(current_page_data.find(\"h1\", class_=\"sc-7kepeu-0 sc-iSDuPN fwzNdh\").text)\n",
    "    restaurant_details_dict[\"location\"].append(current_page_data.find(\"a\", class_=\"sc-clNaTc vNCcy\").text) \n",
    "    restaurant_details_dict[\"delivery_review_number\"].append(current_page_data.find_all(\"div\", class_=\"sc-1q7bklc-8 kEgyiI\")[1].text) \n",
    "    try:\n",
    "        location = current_page_data.find(\"a\", class_=\"sc-cIwbeI hdnZmZ\")[\"href\"]\n",
    "        splits = location.split(\"=\")\n",
    "        latitude, longitude = splits[-1].split(\",\")\n",
    "        restaurant_details_dict[\"latitude\"].append(latitude)\n",
    "        restaurant_details_dict[\"longitude\"].append(longitude)\n",
    "    except:\n",
    "        restaurant_details_dict[\"latitude\"].append(np.nan)\n",
    "        restaurant_details_dict[\"longitude\"].append(np.nan)\n",
    "\n",
    "# Scrape restaurants details data from zomato for scrapped restaurants and store it in the restaurant details dictionary \n",
    "# using chrome drive and beautifulsoup."
   ]
  },
  {
   "cell_type": "code",
   "execution_count": 97,
   "metadata": {},
   "outputs": [],
   "source": [
    "restaurant_details_df = pd.DataFrame(restaurant_details_dict)\n",
    "# create a restaurant details dataframe using the dictionary."
   ]
  },
  {
   "cell_type": "code",
   "execution_count": 100,
   "metadata": {},
   "outputs": [],
   "source": [
    "restaurant_details_df.to_csv(\"restaurants_details.csv\")\n",
    "# Export the restaurant details dataframe as .csv file."
   ]
  }
 ],
 "metadata": {
  "kernelspec": {
   "display_name": "base",
   "language": "python",
   "name": "python3"
  },
  "language_info": {
   "codemirror_mode": {
    "name": "ipython",
    "version": 3
   },
   "file_extension": ".py",
   "mimetype": "text/x-python",
   "name": "python",
   "nbconvert_exporter": "python",
   "pygments_lexer": "ipython3",
   "version": "3.11.5"
  }
 },
 "nbformat": 4,
 "nbformat_minor": 2
}
